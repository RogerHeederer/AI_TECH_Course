{
  "nbformat": 4,
  "nbformat_minor": 0,
  "metadata": {
    "colab": {
      "name": "1주_1일차.ipynb",
      "provenance": [],
      "authorship_tag": "ABX9TyOZavS+wweICq4UQwET2mbw",
      "include_colab_link": true
    },
    "kernelspec": {
      "name": "python3",
      "display_name": "Python 3"
    }
  },
  "cells": [
    {
      "cell_type": "markdown",
      "metadata": {
        "id": "view-in-github",
        "colab_type": "text"
      },
      "source": [
        "<a href=\"https://colab.research.google.com/github/RogerHeederer/AI_TECH_Course/blob/master/1%EC%A3%BC_1%EC%9D%BC%EC%B0%A8.ipynb\" target=\"_parent\"><img src=\"https://colab.research.google.com/assets/colab-badge.svg\" alt=\"Open In Colab\"/></a>"
      ]
    },
    {
      "cell_type": "markdown",
      "metadata": {
        "id": "zpvGBlVeOeBG"
      },
      "source": [
        "학습일지\n",
        "\n",
        "파이썬 환경 세팅 오버뷰\n",
        "\n",
        "터미널을 활용한 상대경로 절대경로 활용법\n",
        "\n",
        "피어 세션 정리 (아래 내용 참조)\n",
        " \n",
        "<1/18 월>\n",
        "조 이름 : 삼식이\n",
        " \n",
        "규칙\n",
        "⁃ 상호 존대, 예의 준수\n",
        "\n",
        "⁃ 주차별 모더레이터 담당자 변경\n",
        "\n",
        "⁃ 예외 상황 발생 시, 사전 알림\n",
        "\n",
        "  * 세션을 운영하며 다수의 의견을 반영하여 규칙을 가감할 수 있음\n",
        " \n",
        " \n",
        "금일 세션 활동 내용\n",
        "⁃ 아이스브레이킹_자기소개\n",
        "\n",
        "⁃ 피어세션 활용방안 회의 _ 1.당일 오전 강의 Q/A  2.추후 진행될 과제 성격 파악 후 논의 재개\n"
      ]
    },
    {
      "cell_type": "code",
      "metadata": {
        "id": "1HjXHNnzOq2Q"
      },
      "source": [
        ""
      ],
      "execution_count": null,
      "outputs": []
    }
  ]
}