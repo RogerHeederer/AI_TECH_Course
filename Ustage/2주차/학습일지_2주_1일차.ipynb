{
  "nbformat": 4,
  "nbformat_minor": 0,
  "metadata": {
    "colab": {
      "name": "학습일지_2주_1일차.ipynb",
      "provenance": []
    },
    "kernelspec": {
      "name": "python3",
      "display_name": "Python 3"
    }
  },
  "cells": [
    {
      "cell_type": "code",
      "metadata": {
        "colab": {
          "base_uri": "https://localhost:8080/"
        },
        "id": "gxmPu62sLxBs",
        "outputId": "461b3ef0-698c-419e-cab3-ac3be9ee6441"
      },
      "source": [
        "import numpy as np\n",
        "test_array = np.array([1,4,5,8], float)\n",
        "print(test_array)"
      ],
      "execution_count": 51,
      "outputs": [
        {
          "output_type": "stream",
          "text": [
            "[1. 4. 5. 8.]\n"
          ],
          "name": "stdout"
        }
      ]
    },
    {
      "cell_type": "markdown",
      "metadata": {
        "id": "tCfX8_h5MFTx"
      },
      "source": [
        "numpy는 np.array 함수를 활용해서 배열을 생성한다. ndarray : 객체\n",
        "\n",
        "하나의 데이터 타입만 배열에 넣을 수 있음  파이썬의 리스트처럼 [1,0.7,0.5] 이렇게 못 넣는다.\n",
        "\n",
        "--> 즉 다이나믹 타이핑이 지원되지 않는다"
      ]
    },
    {
      "cell_type": "code",
      "metadata": {
        "colab": {
          "base_uri": "https://localhost:8080/"
        },
        "id": "ew5M8xPtL-P8",
        "outputId": "ed562b47-96ca-48d7-bde1-00ccfd6f5246"
      },
      "source": [
        "type(test_array), type(test_array[3])"
      ],
      "execution_count": 52,
      "outputs": [
        {
          "output_type": "execute_result",
          "data": {
            "text/plain": [
              "(numpy.ndarray, numpy.float64)"
            ]
          },
          "metadata": {
            "tags": []
          },
          "execution_count": 52
        }
      ]
    },
    {
      "cell_type": "markdown",
      "metadata": {
        "id": "r1icfToxNjyU"
      },
      "source": [
        "## 메모리 참조에 있어서 파이썬 리스트와 넘파이 차이점"
      ]
    },
    {
      "cell_type": "markdown",
      "metadata": {
        "id": "Vy5etbRKNsL2"
      },
      "source": [
        "파이썬 리스트는 value값이 있는 메모리값을 참조하여 그 값을 가르키고 있기 때문에.\n",
        "\n",
        "정적 메모리에 위치한 값을 가르키게 된다면, 주소 값이 아래처러 같다"
      ]
    },
    {
      "cell_type": "code",
      "metadata": {
        "colab": {
          "base_uri": "https://localhost:8080/"
        },
        "id": "tfF4TAi0NAlk",
        "outputId": "7a2f6f48-291c-4250-e414-6d3798bc956e"
      },
      "source": [
        "a = [1,2,3,4,5]\n",
        "b = [5,4,3,2,1]\n",
        "\n",
        "a[0] is b[-1]"
      ],
      "execution_count": 53,
      "outputs": [
        {
          "output_type": "execute_result",
          "data": {
            "text/plain": [
              "True"
            ]
          },
          "metadata": {
            "tags": []
          },
          "execution_count": 53
        }
      ]
    },
    {
      "cell_type": "code",
      "metadata": {
        "colab": {
          "base_uri": "https://localhost:8080/"
        },
        "id": "xexxOBVtNpsI",
        "outputId": "545ef7bb-6569-4e9e-8683-937b27e7dd37"
      },
      "source": [
        "id(a[0]), id(b[-1])"
      ],
      "execution_count": 54,
      "outputs": [
        {
          "output_type": "execute_result",
          "data": {
            "text/plain": [
              "(10914496, 10914496)"
            ]
          },
          "metadata": {
            "tags": []
          },
          "execution_count": 54
        }
      ]
    },
    {
      "cell_type": "markdown",
      "metadata": {
        "id": "rR1iXAANR69X"
      },
      "source": [
        "아래는 어레이를 비교한 예시인데, 어레이는 stack처럼 값을 쌓아서 관리하기 때문에\n",
        "\n",
        "메모리 주소가 흩어져있지 않아서, 예측 가능하다"
      ]
    },
    {
      "cell_type": "code",
      "metadata": {
        "colab": {
          "base_uri": "https://localhost:8080/"
        },
        "id": "hwlpJTQgN1T4",
        "outputId": "dd173352-9455-4706-ed5c-a5311259f40f"
      },
      "source": [
        "c = np.array(a)\n",
        "d = np.array(b)\n",
        "\n",
        "c[0] is d[-1]"
      ],
      "execution_count": 131,
      "outputs": [
        {
          "output_type": "execute_result",
          "data": {
            "text/plain": [
              "False"
            ]
          },
          "metadata": {
            "tags": []
          },
          "execution_count": 131
        }
      ]
    },
    {
      "cell_type": "code",
      "metadata": {
        "colab": {
          "base_uri": "https://localhost:8080/"
        },
        "id": "NCSLHK7iBwyo",
        "outputId": "77be3377-d786-4291-9c67-b5b7b2466bf6"
      },
      "source": [
        "id(c), id(d)"
      ],
      "execution_count": 132,
      "outputs": [
        {
          "output_type": "execute_result",
          "data": {
            "text/plain": [
              "(140465202538976, 140465202538896)"
            ]
          },
          "metadata": {
            "tags": []
          },
          "execution_count": 132
        }
      ]
    },
    {
      "cell_type": "code",
      "metadata": {
        "colab": {
          "base_uri": "https://localhost:8080/"
        },
        "id": "tDAWoCt0RU2A",
        "outputId": "d0a58884-c8d0-4928-da0d-a6e61a7129af"
      },
      "source": [
        "c[0],d[-1]"
      ],
      "execution_count": 56,
      "outputs": [
        {
          "output_type": "execute_result",
          "data": {
            "text/plain": [
              "(1, 1)"
            ]
          },
          "metadata": {
            "tags": []
          },
          "execution_count": 56
        }
      ]
    },
    {
      "cell_type": "code",
      "metadata": {
        "colab": {
          "base_uri": "https://localhost:8080/"
        },
        "id": "RYL2YqdfQ-Vv",
        "outputId": "8ea7d66a-951c-458e-c391-7a8701daa633"
      },
      "source": [
        "id(c[0]), id(d[-1]) # 이 부분 이해가 잘 안가네. c[0] is d[-1]이 false인데, 주소값은 같다?"
      ],
      "execution_count": 129,
      "outputs": [
        {
          "output_type": "execute_result",
          "data": {
            "text/plain": [
              "(140465202525528, 140465202525528)"
            ]
          },
          "metadata": {
            "tags": []
          },
          "execution_count": 129
        }
      ]
    },
    {
      "cell_type": "markdown",
      "metadata": {
        "id": "b64xtYWET1HA"
      },
      "source": [
        "numpy dtype"
      ]
    },
    {
      "cell_type": "code",
      "metadata": {
        "id": "YTTPqG_XRB22"
      },
      "source": [
        "a = np.array([[1,2,3], [4.5, 5, 6]], dtype=np.int8)"
      ],
      "execution_count": 58,
      "outputs": []
    },
    {
      "cell_type": "code",
      "metadata": {
        "colab": {
          "base_uri": "https://localhost:8080/"
        },
        "id": "69C71Ze6T-aA",
        "outputId": "5038a057-32b0-4020-cccf-4eb05d5834f3"
      },
      "source": [
        "a.dtype"
      ],
      "execution_count": 59,
      "outputs": [
        {
          "output_type": "execute_result",
          "data": {
            "text/plain": [
              "dtype('int8')"
            ]
          },
          "metadata": {
            "tags": []
          },
          "execution_count": 59
        }
      ]
    },
    {
      "cell_type": "code",
      "metadata": {
        "colab": {
          "base_uri": "https://localhost:8080/"
        },
        "id": "meaapvDzUBzh",
        "outputId": "d9d8cf97-32ce-46f9-b48e-5ce41b55a796"
      },
      "source": [
        "# 8bit = 1byte.   float32 : 32bits = 4bytes  /  숫자 하나당 4bytes\n",
        "np.array([[1,2,3], [4.5, 5, 6]], dtype=np.float32).nbytes"
      ],
      "execution_count": 60,
      "outputs": [
        {
          "output_type": "execute_result",
          "data": {
            "text/plain": [
              "24"
            ]
          },
          "metadata": {
            "tags": []
          },
          "execution_count": 60
        }
      ]
    },
    {
      "cell_type": "code",
      "metadata": {
        "colab": {
          "base_uri": "https://localhost:8080/"
        },
        "id": "nGFbE5fzUJAR",
        "outputId": "df0157f0-5a19-4bf0-9751-cdd2a9decb0a"
      },
      "source": [
        "# 8bit = 1byte.  int32 : 32bits = 4bytes  / 숫자 하나당 4 bytes\n",
        "np.array([[1,2,3], [4.5, 5, 6]], dtype=np.int32).nbytes"
      ],
      "execution_count": 61,
      "outputs": [
        {
          "output_type": "execute_result",
          "data": {
            "text/plain": [
              "24"
            ]
          },
          "metadata": {
            "tags": []
          },
          "execution_count": 61
        }
      ]
    },
    {
      "cell_type": "code",
      "metadata": {
        "colab": {
          "base_uri": "https://localhost:8080/"
        },
        "id": "OIodDjlbULqx",
        "outputId": "395444d4-b909-4b0d-f51b-a10466f9b837"
      },
      "source": [
        "# 8bits = 1 byte,   int8 : 숫자 하나를 8비트로 표현 \n",
        "np.array([[1,2,3], [4.5, 5, 6]], dtype=np.int8).nbytes"
      ],
      "execution_count": 62,
      "outputs": [
        {
          "output_type": "execute_result",
          "data": {
            "text/plain": [
              "6"
            ]
          },
          "metadata": {
            "tags": []
          },
          "execution_count": 62
        }
      ]
    },
    {
      "cell_type": "code",
      "metadata": {
        "colab": {
          "base_uri": "https://localhost:8080/"
        },
        "id": "oxIJSDEhVqSu",
        "outputId": "0b9c60ea-075d-4fa3-b3a7-841c9c73780a"
      },
      "source": [
        "np.array([[1,2,3], [4.5, 5, 6]], dtype=np.float64).nbytes"
      ],
      "execution_count": 63,
      "outputs": [
        {
          "output_type": "execute_result",
          "data": {
            "text/plain": [
              "48"
            ]
          },
          "metadata": {
            "tags": []
          },
          "execution_count": 63
        }
      ]
    },
    {
      "cell_type": "markdown",
      "metadata": {
        "id": "XdDaUvIdXzD7"
      },
      "source": [
        "##Indexing slicing"
      ]
    },
    {
      "cell_type": "code",
      "metadata": {
        "colab": {
          "base_uri": "https://localhost:8080/"
        },
        "id": "YanteyPUV2dv",
        "outputId": "4d7d650d-eb89-4828-faa8-108a13f0c3f1"
      },
      "source": [
        "test = np.array([[1,2,3,4,5],[6,7,8,9,10]], int)\n",
        "test"
      ],
      "execution_count": 64,
      "outputs": [
        {
          "output_type": "execute_result",
          "data": {
            "text/plain": [
              "array([[ 1,  2,  3,  4,  5],\n",
              "       [ 6,  7,  8,  9, 10]])"
            ]
          },
          "metadata": {
            "tags": []
          },
          "execution_count": 64
        }
      ]
    },
    {
      "cell_type": "code",
      "metadata": {
        "colab": {
          "base_uri": "https://localhost:8080/"
        },
        "id": "wD2hd5BWX7Xh",
        "outputId": "fe746fbc-ab34-4353-b09c-c3fb93ea4ac8"
      },
      "source": [
        "test[1] # 1차원으로 나옴"
      ],
      "execution_count": 65,
      "outputs": [
        {
          "output_type": "execute_result",
          "data": {
            "text/plain": [
              "array([ 6,  7,  8,  9, 10])"
            ]
          },
          "metadata": {
            "tags": []
          },
          "execution_count": 65
        }
      ]
    },
    {
      "cell_type": "code",
      "metadata": {
        "colab": {
          "base_uri": "https://localhost:8080/"
        },
        "id": "2MIhhYkkX9wp",
        "outputId": "dcceb95c-be92-4d84-ac09-cea955dbe029"
      },
      "source": [
        "test[1:2] # 2차원으로 표현됨"
      ],
      "execution_count": 66,
      "outputs": [
        {
          "output_type": "execute_result",
          "data": {
            "text/plain": [
              "array([[ 6,  7,  8,  9, 10]])"
            ]
          },
          "metadata": {
            "tags": []
          },
          "execution_count": 66
        }
      ]
    },
    {
      "cell_type": "code",
      "metadata": {
        "colab": {
          "base_uri": "https://localhost:8080/"
        },
        "id": "eJNvXp6HYBfJ",
        "outputId": "f4b12b7d-5c74-42d9-8fb5-77eeb4e2cf66"
      },
      "source": [
        "a = np.arange(100).reshape(10, 10)\n",
        "a"
      ],
      "execution_count": 67,
      "outputs": [
        {
          "output_type": "execute_result",
          "data": {
            "text/plain": [
              "array([[ 0,  1,  2,  3,  4,  5,  6,  7,  8,  9],\n",
              "       [10, 11, 12, 13, 14, 15, 16, 17, 18, 19],\n",
              "       [20, 21, 22, 23, 24, 25, 26, 27, 28, 29],\n",
              "       [30, 31, 32, 33, 34, 35, 36, 37, 38, 39],\n",
              "       [40, 41, 42, 43, 44, 45, 46, 47, 48, 49],\n",
              "       [50, 51, 52, 53, 54, 55, 56, 57, 58, 59],\n",
              "       [60, 61, 62, 63, 64, 65, 66, 67, 68, 69],\n",
              "       [70, 71, 72, 73, 74, 75, 76, 77, 78, 79],\n",
              "       [80, 81, 82, 83, 84, 85, 86, 87, 88, 89],\n",
              "       [90, 91, 92, 93, 94, 95, 96, 97, 98, 99]])"
            ]
          },
          "metadata": {
            "tags": []
          },
          "execution_count": 67
        }
      ]
    },
    {
      "cell_type": "code",
      "metadata": {
        "colab": {
          "base_uri": "https://localhost:8080/"
        },
        "id": "8GY4YPt5YQvw",
        "outputId": "043298b9-8a6d-45eb-ac92-877b2caf0956"
      },
      "source": [
        "a[:, -1]"
      ],
      "execution_count": 68,
      "outputs": [
        {
          "output_type": "execute_result",
          "data": {
            "text/plain": [
              "array([ 9, 19, 29, 39, 49, 59, 69, 79, 89, 99])"
            ]
          },
          "metadata": {
            "tags": []
          },
          "execution_count": 68
        }
      ]
    },
    {
      "cell_type": "code",
      "metadata": {
        "id": "v1C6iWrzYRev"
      },
      "source": [
        "arr = np.array([[0,1,2,3,4],[5,6,7,8,9],[10,11,12,13,14]])"
      ],
      "execution_count": 69,
      "outputs": []
    },
    {
      "cell_type": "code",
      "metadata": {
        "colab": {
          "base_uri": "https://localhost:8080/"
        },
        "id": "34ibdS37Yp0J",
        "outputId": "25f3215d-d606-40ef-8ded-3d756fea6173"
      },
      "source": [
        "arr[:,::2]"
      ],
      "execution_count": 70,
      "outputs": [
        {
          "output_type": "execute_result",
          "data": {
            "text/plain": [
              "array([[ 0,  2,  4],\n",
              "       [ 5,  7,  9],\n",
              "       [10, 12, 14]])"
            ]
          },
          "metadata": {
            "tags": []
          },
          "execution_count": 70
        }
      ]
    },
    {
      "cell_type": "code",
      "metadata": {
        "colab": {
          "base_uri": "https://localhost:8080/"
        },
        "id": "3_Ub1eWVYrbK",
        "outputId": "0b32453f-aef8-4f6c-c0fc-e8ff51545efa"
      },
      "source": [
        "arr[::2,::3]"
      ],
      "execution_count": 71,
      "outputs": [
        {
          "output_type": "execute_result",
          "data": {
            "text/plain": [
              "array([[ 0,  3],\n",
              "       [10, 13]])"
            ]
          },
          "metadata": {
            "tags": []
          },
          "execution_count": 71
        }
      ]
    },
    {
      "cell_type": "markdown",
      "metadata": {
        "id": "PBPL92bKas01"
      },
      "source": [
        "## eye, identity, digonal"
      ]
    },
    {
      "cell_type": "code",
      "metadata": {
        "colab": {
          "base_uri": "https://localhost:8080/"
        },
        "id": "IFY2vJPMY40q",
        "outputId": "451dfaf8-fa77-4fa6-a3d6-b9ce00d9360b"
      },
      "source": [
        "np.identity(n=3, dtype=np.int8)"
      ],
      "execution_count": 72,
      "outputs": [
        {
          "output_type": "execute_result",
          "data": {
            "text/plain": [
              "array([[1, 0, 0],\n",
              "       [0, 1, 0],\n",
              "       [0, 0, 1]], dtype=int8)"
            ]
          },
          "metadata": {
            "tags": []
          },
          "execution_count": 72
        }
      ]
    },
    {
      "cell_type": "code",
      "metadata": {
        "colab": {
          "base_uri": "https://localhost:8080/"
        },
        "id": "0TI0GoJSaxhv",
        "outputId": "c928c2bd-2d44-4857-ba23-44382fdba690"
      },
      "source": [
        "np.eye(N=3, M=5, k=2, dtype=np.int8)  # k는 1이 시작될 열을 지정해줌"
      ],
      "execution_count": 73,
      "outputs": [
        {
          "output_type": "execute_result",
          "data": {
            "text/plain": [
              "array([[0, 0, 1, 0, 0],\n",
              "       [0, 0, 0, 1, 0],\n",
              "       [0, 0, 0, 0, 1]], dtype=int8)"
            ]
          },
          "metadata": {
            "tags": []
          },
          "execution_count": 73
        }
      ]
    },
    {
      "cell_type": "code",
      "metadata": {
        "colab": {
          "base_uri": "https://localhost:8080/"
        },
        "id": "fzYlfUOYa1E3",
        "outputId": "7f1859d5-797c-4f0b-d4bd-789e8446160f"
      },
      "source": [
        "np.eye(5)"
      ],
      "execution_count": 74,
      "outputs": [
        {
          "output_type": "execute_result",
          "data": {
            "text/plain": [
              "array([[1., 0., 0., 0., 0.],\n",
              "       [0., 1., 0., 0., 0.],\n",
              "       [0., 0., 1., 0., 0.],\n",
              "       [0., 0., 0., 1., 0.],\n",
              "       [0., 0., 0., 0., 1.]])"
            ]
          },
          "metadata": {
            "tags": []
          },
          "execution_count": 74
        }
      ]
    },
    {
      "cell_type": "code",
      "metadata": {
        "colab": {
          "base_uri": "https://localhost:8080/"
        },
        "id": "CnL8W5NPbXQ4",
        "outputId": "bae38c25-fe81-4d63-97c1-ab6316ed82e3"
      },
      "source": [
        "np.eye(5, k=1)"
      ],
      "execution_count": 75,
      "outputs": [
        {
          "output_type": "execute_result",
          "data": {
            "text/plain": [
              "array([[0., 1., 0., 0., 0.],\n",
              "       [0., 0., 1., 0., 0.],\n",
              "       [0., 0., 0., 1., 0.],\n",
              "       [0., 0., 0., 0., 1.],\n",
              "       [0., 0., 0., 0., 0.]])"
            ]
          },
          "metadata": {
            "tags": []
          },
          "execution_count": 75
        }
      ]
    },
    {
      "cell_type": "code",
      "metadata": {
        "id": "wHtR1gwEbcM8"
      },
      "source": [
        "matrix = np.arange(12).reshape(3,4)"
      ],
      "execution_count": 76,
      "outputs": []
    },
    {
      "cell_type": "code",
      "metadata": {
        "colab": {
          "base_uri": "https://localhost:8080/"
        },
        "id": "pG3lp0wEblDe",
        "outputId": "99a1140e-ecaf-4be5-b8ca-f5bae929f37e"
      },
      "source": [
        "matrix"
      ],
      "execution_count": 77,
      "outputs": [
        {
          "output_type": "execute_result",
          "data": {
            "text/plain": [
              "array([[ 0,  1,  2,  3],\n",
              "       [ 4,  5,  6,  7],\n",
              "       [ 8,  9, 10, 11]])"
            ]
          },
          "metadata": {
            "tags": []
          },
          "execution_count": 77
        }
      ]
    },
    {
      "cell_type": "code",
      "metadata": {
        "colab": {
          "base_uri": "https://localhost:8080/"
        },
        "id": "ni7fILxRbmME",
        "outputId": "69710e88-771e-4f4b-f274-9e9d226e9329"
      },
      "source": [
        "#대각 행렬 구하기 diag\n",
        "\n",
        "np.diag(matrix, k=2)"
      ],
      "execution_count": 78,
      "outputs": [
        {
          "output_type": "execute_result",
          "data": {
            "text/plain": [
              "array([2, 7])"
            ]
          },
          "metadata": {
            "tags": []
          },
          "execution_count": 78
        }
      ]
    },
    {
      "cell_type": "code",
      "metadata": {
        "colab": {
          "base_uri": "https://localhost:8080/"
        },
        "id": "lG3TalJbb2gR",
        "outputId": "65a7e27a-7859-4232-ad08-2eb232d81446"
      },
      "source": [
        "np.diag(matrix, k=-1)"
      ],
      "execution_count": 79,
      "outputs": [
        {
          "output_type": "execute_result",
          "data": {
            "text/plain": [
              "array([4, 9])"
            ]
          },
          "metadata": {
            "tags": []
          },
          "execution_count": 79
        }
      ]
    },
    {
      "cell_type": "code",
      "metadata": {
        "colab": {
          "base_uri": "https://localhost:8080/"
        },
        "id": "rEqS_gcUb45s",
        "outputId": "a39d661e-61e9-4962-d76f-c6e01f9334e1"
      },
      "source": [
        "np.diag(matrix, k=0)"
      ],
      "execution_count": 80,
      "outputs": [
        {
          "output_type": "execute_result",
          "data": {
            "text/plain": [
              "array([ 0,  5, 10])"
            ]
          },
          "metadata": {
            "tags": []
          },
          "execution_count": 80
        }
      ]
    },
    {
      "cell_type": "code",
      "metadata": {
        "id": "cGCNDVEVcBsX",
        "colab": {
          "base_uri": "https://localhost:8080/"
        },
        "outputId": "17692edf-0c10-4253-dc7a-df804206b3dd"
      },
      "source": [
        "np.random.normal(0,1,10).reshape(2,5)"
      ],
      "execution_count": 81,
      "outputs": [
        {
          "output_type": "execute_result",
          "data": {
            "text/plain": [
              "array([[-2.27717788, -0.56217291,  0.48593262,  0.14759448, -0.25819946],\n",
              "       [ 0.61311571,  1.69866773, -0.7464101 ,  0.36975197,  0.37852496]])"
            ]
          },
          "metadata": {
            "tags": []
          },
          "execution_count": 81
        }
      ]
    },
    {
      "cell_type": "code",
      "metadata": {
        "colab": {
          "base_uri": "https://localhost:8080/"
        },
        "id": "ZnuAPpfrdpFm",
        "outputId": "a61f78b9-778e-40bf-a7a7-e37ccec0ccbf"
      },
      "source": [
        "np.random.exponential(scale=2, size=100)"
      ],
      "execution_count": 84,
      "outputs": [
        {
          "output_type": "execute_result",
          "data": {
            "text/plain": [
              "array([ 0.50890283,  1.33095826,  3.00239408,  2.36931154,  3.44460303,\n",
              "        2.69018744,  0.03491174,  0.02866099,  0.35323394,  1.45218058,\n",
              "        2.53275831,  0.62288833,  0.06880427,  1.47670782,  1.96213955,\n",
              "        2.25717027,  0.73956826,  0.89435372,  1.18617359,  1.97917162,\n",
              "        2.75631765,  2.05606759,  3.01745629,  5.9737649 ,  2.65087225,\n",
              "        1.02642839,  1.87845056,  0.54999954,  4.85493467,  2.13922915,\n",
              "        1.35349464,  4.59851299,  2.91883558,  2.7453718 ,  8.00239858,\n",
              "        1.90559174,  4.60367883,  0.28364852,  0.05819679,  0.8022709 ,\n",
              "        4.74967658,  0.67150834,  2.46969171,  2.27878044,  1.12131351,\n",
              "        0.15415998,  2.42026528,  0.20388257,  2.27461665,  3.30313245,\n",
              "        0.26002176,  0.51898818,  1.30736747,  2.64622263,  2.0393969 ,\n",
              "        1.7855757 ,  4.43953679,  1.07276443,  0.81013981,  0.62721323,\n",
              "        5.86554928,  0.46502271,  0.3620594 ,  3.9439579 , 10.83774414,\n",
              "        2.38197576,  1.51035331,  5.07219076,  1.72725912,  1.65740826,\n",
              "        5.0451165 ,  0.18554808,  0.31569433,  1.16463071,  2.90805268,\n",
              "        1.09882412,  2.99774594,  1.18619955,  2.15741898,  1.83383408,\n",
              "        3.42156897,  0.80987772,  0.04583469,  0.14861786,  0.09155995,\n",
              "        5.590241  ,  0.58544624,  2.62465118,  7.20493815,  2.54991907,\n",
              "        0.45154693,  0.11757226,  2.93569594,  0.44857611,  1.27552542,\n",
              "        1.54663156,  0.88602255,  7.38187648,  1.6357457 ,  0.25279876])"
            ]
          },
          "metadata": {
            "tags": []
          },
          "execution_count": 84
        }
      ]
    },
    {
      "cell_type": "markdown",
      "metadata": {
        "id": "2oUyBExZe6Zy"
      },
      "source": [
        "# concatenate"
      ]
    },
    {
      "cell_type": "code",
      "metadata": {
        "colab": {
          "base_uri": "https://localhost:8080/"
        },
        "id": "8BRRzautdrpn",
        "outputId": "4d4a7a8d-f057-4cc3-e396-3f3d6ebee249"
      },
      "source": [
        "a = np.array([1,2,3])\n",
        "b = np.array([2,3,4])\n",
        "\n",
        "np.vstack((a,b))"
      ],
      "execution_count": 85,
      "outputs": [
        {
          "output_type": "execute_result",
          "data": {
            "text/plain": [
              "array([[1, 2, 3],\n",
              "       [2, 3, 4]])"
            ]
          },
          "metadata": {
            "tags": []
          },
          "execution_count": 85
        }
      ]
    },
    {
      "cell_type": "code",
      "metadata": {
        "colab": {
          "base_uri": "https://localhost:8080/"
        },
        "id": "TZjw4C3VfBU9",
        "outputId": "80396625-f0d9-4c8f-a335-8e51e58340e9"
      },
      "source": [
        "a = np.array([[1],[2],[3]])\n",
        "b = np.array([[4],[5],[6]])\n",
        "\n",
        "np.hstack((a,b))"
      ],
      "execution_count": 86,
      "outputs": [
        {
          "output_type": "execute_result",
          "data": {
            "text/plain": [
              "array([[1, 4],\n",
              "       [2, 5],\n",
              "       [3, 6]])"
            ]
          },
          "metadata": {
            "tags": []
          },
          "execution_count": 86
        }
      ]
    },
    {
      "cell_type": "code",
      "metadata": {
        "colab": {
          "base_uri": "https://localhost:8080/"
        },
        "id": "J4Pm72XTfNc8",
        "outputId": "feb1b38b-9726-4d59-ce99-f28917dd3e88"
      },
      "source": [
        "a = np.array([1,2,3])\n",
        "b = np.array([2,3,4])\n",
        "\n",
        "np.concatenate((a,b), axis=0)"
      ],
      "execution_count": 87,
      "outputs": [
        {
          "output_type": "execute_result",
          "data": {
            "text/plain": [
              "array([1, 2, 3, 2, 3, 4])"
            ]
          },
          "metadata": {
            "tags": []
          },
          "execution_count": 87
        }
      ]
    },
    {
      "cell_type": "code",
      "metadata": {
        "colab": {
          "base_uri": "https://localhost:8080/"
        },
        "id": "4ecIA0NUfcnm",
        "outputId": "73efb772-ca4f-48b8-b366-8f9b611eda3e"
      },
      "source": [
        "a = np.array([[1,2,3]])\n",
        "b = np.array([[2,3,4]])\n",
        "\n",
        "np.concatenate((a,b), axis=0)"
      ],
      "execution_count": 88,
      "outputs": [
        {
          "output_type": "execute_result",
          "data": {
            "text/plain": [
              "array([[1, 2, 3],\n",
              "       [2, 3, 4]])"
            ]
          },
          "metadata": {
            "tags": []
          },
          "execution_count": 88
        }
      ]
    },
    {
      "cell_type": "code",
      "metadata": {
        "colab": {
          "base_uri": "https://localhost:8080/"
        },
        "id": "wIIRqmuifnEb",
        "outputId": "1b6a8b3d-ff37-4dad-93d8-5bb8502182c8"
      },
      "source": [
        "a = np.array([[1,2,3]])\n",
        "b = np.array([[2,3,4]])\n",
        "\n",
        "np.concatenate((a,b), axis=1)"
      ],
      "execution_count": 89,
      "outputs": [
        {
          "output_type": "execute_result",
          "data": {
            "text/plain": [
              "array([[1, 2, 3, 2, 3, 4]])"
            ]
          },
          "metadata": {
            "tags": []
          },
          "execution_count": 89
        }
      ]
    },
    {
      "cell_type": "code",
      "metadata": {
        "id": "963iq-RGf6Oz"
      },
      "source": [
        "a = np.array([[1,2], [3,4]])\n",
        "b = np.array([[5], [6]])"
      ],
      "execution_count": 90,
      "outputs": []
    },
    {
      "cell_type": "code",
      "metadata": {
        "colab": {
          "base_uri": "https://localhost:8080/"
        },
        "id": "RkREU0Gbgfdb",
        "outputId": "5821bf38-63f6-46fd-c940-9987d178c5e6"
      },
      "source": [
        "a"
      ],
      "execution_count": 91,
      "outputs": [
        {
          "output_type": "execute_result",
          "data": {
            "text/plain": [
              "array([[1, 2],\n",
              "       [3, 4]])"
            ]
          },
          "metadata": {
            "tags": []
          },
          "execution_count": 91
        }
      ]
    },
    {
      "cell_type": "code",
      "metadata": {
        "colab": {
          "base_uri": "https://localhost:8080/"
        },
        "id": "hgK2J0XbgfyR",
        "outputId": "9dd85642-b40c-4be2-f873-f0cb307f9936"
      },
      "source": [
        "b"
      ],
      "execution_count": 92,
      "outputs": [
        {
          "output_type": "execute_result",
          "data": {
            "text/plain": [
              "array([[5],\n",
              "       [6]])"
            ]
          },
          "metadata": {
            "tags": []
          },
          "execution_count": 92
        }
      ]
    },
    {
      "cell_type": "code",
      "metadata": {
        "colab": {
          "base_uri": "https://localhost:8080/"
        },
        "id": "YUu6dT8tgf9w",
        "outputId": "87df43fb-56a4-4d2e-f756-f438d1fb48c5"
      },
      "source": [
        "np.concatenate((a,b), axis=1)"
      ],
      "execution_count": 93,
      "outputs": [
        {
          "output_type": "execute_result",
          "data": {
            "text/plain": [
              "array([[1, 2, 5],\n",
              "       [3, 4, 6]])"
            ]
          },
          "metadata": {
            "tags": []
          },
          "execution_count": 93
        }
      ]
    },
    {
      "cell_type": "code",
      "metadata": {
        "colab": {
          "base_uri": "https://localhost:8080/",
          "height": 215
        },
        "id": "xjbFEYWTgkzs",
        "outputId": "3f8e5c98-33a0-4910-e77b-0723b01957e1"
      },
      "source": [
        "np.concatenate((a,b), axis=0)"
      ],
      "execution_count": 94,
      "outputs": [
        {
          "output_type": "error",
          "ename": "ValueError",
          "evalue": "ignored",
          "traceback": [
            "\u001b[0;31m---------------------------------------------------------------------------\u001b[0m",
            "\u001b[0;31mValueError\u001b[0m                                Traceback (most recent call last)",
            "\u001b[0;32m<ipython-input-94-bfef04cb1817>\u001b[0m in \u001b[0;36m<module>\u001b[0;34m()\u001b[0m\n\u001b[0;32m----> 1\u001b[0;31m \u001b[0mnp\u001b[0m\u001b[0;34m.\u001b[0m\u001b[0mconcatenate\u001b[0m\u001b[0;34m(\u001b[0m\u001b[0;34m(\u001b[0m\u001b[0ma\u001b[0m\u001b[0;34m,\u001b[0m\u001b[0mb\u001b[0m\u001b[0;34m)\u001b[0m\u001b[0;34m,\u001b[0m \u001b[0maxis\u001b[0m\u001b[0;34m=\u001b[0m\u001b[0;36m0\u001b[0m\u001b[0;34m)\u001b[0m\u001b[0;34m\u001b[0m\u001b[0;34m\u001b[0m\u001b[0m\n\u001b[0m",
            "\u001b[0;32m<__array_function__ internals>\u001b[0m in \u001b[0;36mconcatenate\u001b[0;34m(*args, **kwargs)\u001b[0m\n",
            "\u001b[0;31mValueError\u001b[0m: all the input array dimensions for the concatenation axis must match exactly, but along dimension 1, the array at index 0 has size 2 and the array at index 1 has size 1"
          ]
        }
      ]
    },
    {
      "cell_type": "code",
      "metadata": {
        "id": "JpcFbFZUgpS4"
      },
      "source": [
        "a = np.array([[1,2], [3,4]])\n",
        "b = np.array([5,6])"
      ],
      "execution_count": 95,
      "outputs": []
    },
    {
      "cell_type": "code",
      "metadata": {
        "colab": {
          "base_uri": "https://localhost:8080/"
        },
        "id": "TmBPK7j6hCbU",
        "outputId": "71cbae57-349d-4a60-ccc6-04ff51782a22"
      },
      "source": [
        "b.reshape(-1,2)"
      ],
      "execution_count": 96,
      "outputs": [
        {
          "output_type": "execute_result",
          "data": {
            "text/plain": [
              "array([[5, 6]])"
            ]
          },
          "metadata": {
            "tags": []
          },
          "execution_count": 96
        }
      ]
    },
    {
      "cell_type": "code",
      "metadata": {
        "colab": {
          "base_uri": "https://localhost:8080/"
        },
        "id": "oF1QqdTGhEcZ",
        "outputId": "d95b77c7-73cf-4512-9d0c-28f4aaffe98d"
      },
      "source": [
        "b = np.array([5,6])\n",
        "b[np.newaxis, :]"
      ],
      "execution_count": 102,
      "outputs": [
        {
          "output_type": "execute_result",
          "data": {
            "text/plain": [
              "array([[5, 6]])"
            ]
          },
          "metadata": {
            "tags": []
          },
          "execution_count": 102
        }
      ]
    },
    {
      "cell_type": "code",
      "metadata": {
        "colab": {
          "base_uri": "https://localhost:8080/"
        },
        "id": "0h1nDMLqhIA1",
        "outputId": "f3a52e6f-7c72-4d0d-8d73-985afb96f832"
      },
      "source": [
        "b = b[np.newaxis, :]\n",
        "b"
      ],
      "execution_count": 103,
      "outputs": [
        {
          "output_type": "execute_result",
          "data": {
            "text/plain": [
              "array([[5, 6]])"
            ]
          },
          "metadata": {
            "tags": []
          },
          "execution_count": 103
        }
      ]
    },
    {
      "cell_type": "code",
      "metadata": {
        "colab": {
          "base_uri": "https://localhost:8080/"
        },
        "id": "rxtFmDWthLTF",
        "outputId": "386280f7-be61-4735-96f5-235b9d262e7b"
      },
      "source": [
        "b.T"
      ],
      "execution_count": 105,
      "outputs": [
        {
          "output_type": "execute_result",
          "data": {
            "text/plain": [
              "array([[5],\n",
              "       [6]])"
            ]
          },
          "metadata": {
            "tags": []
          },
          "execution_count": 105
        }
      ]
    },
    {
      "cell_type": "code",
      "metadata": {
        "colab": {
          "base_uri": "https://localhost:8080/"
        },
        "id": "JTYGyQcghMEZ",
        "outputId": "bc3cabb4-c486-4ce9-9daf-8285df2c2044"
      },
      "source": [
        "a"
      ],
      "execution_count": 106,
      "outputs": [
        {
          "output_type": "execute_result",
          "data": {
            "text/plain": [
              "array([[1, 2],\n",
              "       [3, 4]])"
            ]
          },
          "metadata": {
            "tags": []
          },
          "execution_count": 106
        }
      ]
    },
    {
      "cell_type": "code",
      "metadata": {
        "colab": {
          "base_uri": "https://localhost:8080/"
        },
        "id": "DS-Uhp83hjFT",
        "outputId": "48d2c896-9ae7-4bad-ecde-7b3485d7266d"
      },
      "source": [
        "np.concatenate((a, b.T), axis=1)"
      ],
      "execution_count": 107,
      "outputs": [
        {
          "output_type": "execute_result",
          "data": {
            "text/plain": [
              "array([[1, 2, 5],\n",
              "       [3, 4, 6]])"
            ]
          },
          "metadata": {
            "tags": []
          },
          "execution_count": 107
        }
      ]
    },
    {
      "cell_type": "markdown",
      "metadata": {
        "id": "0hRPBz__k6E1"
      },
      "source": [
        "#argmax & argmin"
      ]
    },
    {
      "cell_type": "code",
      "metadata": {
        "colab": {
          "base_uri": "https://localhost:8080/"
        },
        "id": "DQoAezOghnjZ",
        "outputId": "2cb8a076-9c33-492b-c588-769905365c89"
      },
      "source": [
        "a = np.array([1,2,4,5,8,78,23,3])\n",
        "a"
      ],
      "execution_count": 108,
      "outputs": [
        {
          "output_type": "execute_result",
          "data": {
            "text/plain": [
              "array([ 1,  2,  4,  5,  8, 78, 23,  3])"
            ]
          },
          "metadata": {
            "tags": []
          },
          "execution_count": 108
        }
      ]
    },
    {
      "cell_type": "code",
      "metadata": {
        "colab": {
          "base_uri": "https://localhost:8080/"
        },
        "id": "QIslb_sbk-OB",
        "outputId": "5fb493da-5a23-44ab-8618-931a6d67119e"
      },
      "source": [
        "a.argsort() #정렬된 인덱스 뽑아주기"
      ],
      "execution_count": 109,
      "outputs": [
        {
          "output_type": "execute_result",
          "data": {
            "text/plain": [
              "array([0, 1, 7, 2, 3, 4, 6, 5])"
            ]
          },
          "metadata": {
            "tags": []
          },
          "execution_count": 109
        }
      ]
    },
    {
      "cell_type": "code",
      "metadata": {
        "colab": {
          "base_uri": "https://localhost:8080/"
        },
        "id": "CgpnLfeEk-7V",
        "outputId": "f26c7781-db03-4401-fac1-0c7acd507e4f"
      },
      "source": [
        "a.argsort()[::-1]"
      ],
      "execution_count": 110,
      "outputs": [
        {
          "output_type": "execute_result",
          "data": {
            "text/plain": [
              "array([5, 6, 4, 3, 2, 7, 1, 0])"
            ]
          },
          "metadata": {
            "tags": []
          },
          "execution_count": 110
        }
      ]
    },
    {
      "cell_type": "code",
      "metadata": {
        "colab": {
          "base_uri": "https://localhost:8080/"
        },
        "id": "2iRlFCg5lGGH",
        "outputId": "d2254f0b-6b3f-49bd-f3cd-da1795ab7c9b"
      },
      "source": [
        "np.argmax(a), a[np.argmax(a)]"
      ],
      "execution_count": 112,
      "outputs": [
        {
          "output_type": "execute_result",
          "data": {
            "text/plain": [
              "(5, 78)"
            ]
          },
          "metadata": {
            "tags": []
          },
          "execution_count": 112
        }
      ]
    },
    {
      "cell_type": "code",
      "metadata": {
        "colab": {
          "base_uri": "https://localhost:8080/"
        },
        "id": "39eOtcLvlG53",
        "outputId": "c22f6cb0-95b5-45af-9a79-8786cc28d257"
      },
      "source": [
        "a = np.array([[1,2,4,7], [9,88,6,45], [9,76,3,4]])\n",
        "a"
      ],
      "execution_count": 113,
      "outputs": [
        {
          "output_type": "execute_result",
          "data": {
            "text/plain": [
              "array([[ 1,  2,  4,  7],\n",
              "       [ 9, 88,  6, 45],\n",
              "       [ 9, 76,  3,  4]])"
            ]
          },
          "metadata": {
            "tags": []
          },
          "execution_count": 113
        }
      ]
    },
    {
      "cell_type": "code",
      "metadata": {
        "colab": {
          "base_uri": "https://localhost:8080/"
        },
        "id": "XYbV9148lY3Z",
        "outputId": "da2a4227-ccee-4729-f454-742cc59fc7fc"
      },
      "source": [
        "np.argmax(a, axis=1), np.argmin(a, axis=0)"
      ],
      "execution_count": 114,
      "outputs": [
        {
          "output_type": "execute_result",
          "data": {
            "text/plain": [
              "(array([3, 1, 1]), array([0, 0, 2, 2]))"
            ]
          },
          "metadata": {
            "tags": []
          },
          "execution_count": 114
        }
      ]
    },
    {
      "cell_type": "markdown",
      "metadata": {
        "id": "SSAH_nR1mF-8"
      },
      "source": [
        "#boolean index"
      ]
    },
    {
      "cell_type": "code",
      "metadata": {
        "colab": {
          "base_uri": "https://localhost:8080/"
        },
        "id": "an792RKilcrZ",
        "outputId": "dd852c7c-8692-40e7-f8b4-e468a7faf999"
      },
      "source": [
        "test_array = np.array([1,4,0,2,33,8,9,7], float)\n",
        "test_array > 3"
      ],
      "execution_count": 115,
      "outputs": [
        {
          "output_type": "execute_result",
          "data": {
            "text/plain": [
              "array([False,  True, False, False,  True,  True,  True,  True])"
            ]
          },
          "metadata": {
            "tags": []
          },
          "execution_count": 115
        }
      ]
    },
    {
      "cell_type": "code",
      "metadata": {
        "colab": {
          "base_uri": "https://localhost:8080/"
        },
        "id": "LwY-tsTsmPMk",
        "outputId": "ecfc7188-2fef-49aa-d214-1bc25a8793f4"
      },
      "source": [
        "condition = test_array<3\n",
        "test_array[condition]"
      ],
      "execution_count": 116,
      "outputs": [
        {
          "output_type": "execute_result",
          "data": {
            "text/plain": [
              "array([1., 0., 2.])"
            ]
          },
          "metadata": {
            "tags": []
          },
          "execution_count": 116
        }
      ]
    },
    {
      "cell_type": "markdown",
      "metadata": {
        "id": "cjhZfTrumq5U"
      },
      "source": [
        "##fancy index"
      ]
    },
    {
      "cell_type": "code",
      "metadata": {
        "id": "64j_mg4RmVsC"
      },
      "source": [
        "a = np.array([2,4,6,8], float)\n",
        "b = np.array([0,0,1,3,2,1], int) # 인덱스로 쓰는거라 반드시 인티져"
      ],
      "execution_count": 117,
      "outputs": []
    },
    {
      "cell_type": "code",
      "metadata": {
        "colab": {
          "base_uri": "https://localhost:8080/"
        },
        "id": "l1eN0O-xmzG5",
        "outputId": "a8499f24-624c-4eb7-e845-a43af9f9382e"
      },
      "source": [
        "a,b"
      ],
      "execution_count": 119,
      "outputs": [
        {
          "output_type": "execute_result",
          "data": {
            "text/plain": [
              "(array([2., 4., 6., 8.]), array([0, 0, 1, 3, 2, 1]))"
            ]
          },
          "metadata": {
            "tags": []
          },
          "execution_count": 119
        }
      ]
    },
    {
      "cell_type": "code",
      "metadata": {
        "colab": {
          "base_uri": "https://localhost:8080/"
        },
        "id": "YL3sWyHxmze0",
        "outputId": "fd1e7af7-4f26-45e1-8074-742849e7638e"
      },
      "source": [
        "a[b]"
      ],
      "execution_count": 120,
      "outputs": [
        {
          "output_type": "execute_result",
          "data": {
            "text/plain": [
              "array([2., 2., 4., 8., 6., 4.])"
            ]
          },
          "metadata": {
            "tags": []
          },
          "execution_count": 120
        }
      ]
    },
    {
      "cell_type": "code",
      "metadata": {
        "colab": {
          "base_uri": "https://localhost:8080/"
        },
        "id": "8tznhoMRm2qE",
        "outputId": "9c6da493-4a81-42ee-f4e5-e33e5c166290"
      },
      "source": [
        "a.take(b)"
      ],
      "execution_count": 121,
      "outputs": [
        {
          "output_type": "execute_result",
          "data": {
            "text/plain": [
              "array([2., 2., 4., 8., 6., 4.])"
            ]
          },
          "metadata": {
            "tags": []
          },
          "execution_count": 121
        }
      ]
    },
    {
      "cell_type": "code",
      "metadata": {
        "colab": {
          "base_uri": "https://localhost:8080/"
        },
        "id": "rSEQmrCam6hD",
        "outputId": "29a1cada-9024-4217-f57c-bee7852ebbf7"
      },
      "source": [
        "a = np.array([[1,4], [9,16]], float)\n",
        "b = np.array([0, 0, 1, 1, 0], int)\n",
        "c = np.array([0, 1, 1, 1, 1], int)\n",
        "a[b,c]"
      ],
      "execution_count": 122,
      "outputs": [
        {
          "output_type": "execute_result",
          "data": {
            "text/plain": [
              "array([ 1.,  4., 16., 16.,  4.])"
            ]
          },
          "metadata": {
            "tags": []
          },
          "execution_count": 122
        }
      ]
    },
    {
      "cell_type": "code",
      "metadata": {
        "id": "fbNJppT7nTT9"
      },
      "source": [
        "condition = c"
      ],
      "execution_count": 125,
      "outputs": []
    },
    {
      "cell_type": "code",
      "metadata": {
        "colab": {
          "base_uri": "https://localhost:8080/"
        },
        "id": "V85AVthCnIIi",
        "outputId": "44ba29cf-ec1d-4307-dda5-e5a62bf64dfe"
      },
      "source": [
        "a.take(condition)"
      ],
      "execution_count": 126,
      "outputs": [
        {
          "output_type": "execute_result",
          "data": {
            "text/plain": [
              "array([1., 4., 4., 4., 4.])"
            ]
          },
          "metadata": {
            "tags": []
          },
          "execution_count": 126
        }
      ]
    },
    {
      "cell_type": "code",
      "metadata": {
        "colab": {
          "base_uri": "https://localhost:8080/"
        },
        "id": "L2bdOLj3nSZe",
        "outputId": "2c51631e-0a32-4776-f27a-5d0d3ecaf6a9"
      },
      "source": [
        "a[b]"
      ],
      "execution_count": 127,
      "outputs": [
        {
          "output_type": "execute_result",
          "data": {
            "text/plain": [
              "array([[ 1.,  4.],\n",
              "       [ 1.,  4.],\n",
              "       [ 9., 16.],\n",
              "       [ 9., 16.],\n",
              "       [ 1.,  4.]])"
            ]
          },
          "metadata": {
            "tags": []
          },
          "execution_count": 127
        }
      ]
    },
    {
      "cell_type": "code",
      "metadata": {
        "id": "EkgCwgbrnjpw"
      },
      "source": [
        ""
      ],
      "execution_count": null,
      "outputs": []
    }
  ]
}